{
  "cells": [
    {
      "cell_type": "markdown",
      "metadata": {
        "id": "Q4TPDkmTIvfC"
      },
      "source": [
        "# Imports\n",
        "\n"
      ]
    },
    {
      "cell_type": "code",
      "execution_count": 3,
      "metadata": {
        "id": "70jWSESrkVXu"
      },
      "outputs": [],
      "source": [
        "# imports\n",
        "import warnings\n",
        "import pandas as pd\n",
        "import numpy as np\n",
        "import matplotlib.pyplot as plt\n",
        "import seaborn as sns\n",
        "from sklearn.model_selection import train_test_split\n",
        "from sklearn.preprocessing import OneHotEncoder, StandardScaler\n",
        "from sklearn.impute import SimpleImputer\n",
        "from sklearn.compose import ColumnTransformer\n",
        "from sklearn.pipeline import Pipeline\n",
        "from sklearn.pipeline import make_pipeline\n",
        "from sklearn.decomposition import PCA\n",
        "from sklearn.model_selection import GridSearchCV\n",
        "from sklearn.dummy import DummyRegressor\n",
        "from sklearn.linear_model import LinearRegression\n",
        "from sklearn.tree import DecisionTreeRegressor\n",
        "from sklearn.svm import LinearSVR\n",
        "from sklearn.neighbors import KNeighborsRegressor\n",
        "from sklearn.ensemble import RandomForestRegressor, AdaBoostRegressor, StackingRegressor\n",
        "from xgboost import XGBRegressor\n",
        "from sklearn import set_config\n",
        "from sklearn.metrics import make_scorer, r2_score, mean_squared_error, mean_absolute_error\n",
        "from tabulate import tabulate\n",
        "from sklearn.inspection import permutation_importance"
      ]
    },
    {
      "cell_type": "markdown",
      "metadata": {
        "id": "-7YJz5lLI9Z-"
      },
      "source": [
        "# Configuring General Settings"
      ]
    },
    {
      "cell_type": "code",
      "execution_count": 4,
      "metadata": {
        "colab": {
          "base_uri": "https://localhost:8080/"
        },
        "id": "NX0ncNSvzqjI",
        "outputId": "df4bfec7-b0f4-4446-b537-fd3c0597f5ff"
      },
      "outputs": [],
      "source": [
        "warnings.filterwarnings(\"ignore\")\n",
        "set_config(transform_output=\"pandas\")\n",
        "pd.set_option('display.max_columns', None)\n",
        "sns.set_theme(style=\"whitegrid\")"
      ]
    },
    {
      "cell_type": "markdown",
      "metadata": {
        "id": "FUjMidT_ScOe"
      },
      "source": [
        "# Loading Data"
      ]
    },
    {
      "cell_type": "code",
      "execution_count": 5,
      "metadata": {
        "id": "raHWeuMQ9q4g"
      },
      "outputs": [],
      "source": [
        "df_sales = pd.read_csv(\"data/train_v9rqX0R.csv\")"
      ]
    },
    {
      "cell_type": "markdown",
      "metadata": {
        "id": "sihKV7QjSmg_"
      },
      "source": [
        "# EDA & Data Cleaning"
      ]
    },
    {
      "cell_type": "code",
      "execution_count": 6,
      "metadata": {
        "colab": {
          "base_uri": "https://localhost:8080/",
          "height": 330
        },
        "id": "Wf9W9BjD-YgD",
        "outputId": "486ae7dd-db18-4f1a-f5cf-e24c086a66d4"
      },
      "outputs": [
        {
          "name": "stdout",
          "output_type": "stream",
          "text": [
            "(8523, 12)\n"
          ]
        },
        {
          "data": {
            "text/html": [
              "<div>\n",
              "<style scoped>\n",
              "    .dataframe tbody tr th:only-of-type {\n",
              "        vertical-align: middle;\n",
              "    }\n",
              "\n",
              "    .dataframe tbody tr th {\n",
              "        vertical-align: top;\n",
              "    }\n",
              "\n",
              "    .dataframe thead th {\n",
              "        text-align: right;\n",
              "    }\n",
              "</style>\n",
              "<table border=\"1\" class=\"dataframe\">\n",
              "  <thead>\n",
              "    <tr style=\"text-align: right;\">\n",
              "      <th></th>\n",
              "      <th>Item_Identifier</th>\n",
              "      <th>Item_Weight</th>\n",
              "      <th>Item_Fat_Content</th>\n",
              "      <th>Item_Visibility</th>\n",
              "      <th>Item_Type</th>\n",
              "      <th>Item_MRP</th>\n",
              "      <th>Outlet_Identifier</th>\n",
              "      <th>Outlet_Establishment_Year</th>\n",
              "      <th>Outlet_Size</th>\n",
              "      <th>Outlet_Location_Type</th>\n",
              "      <th>Outlet_Type</th>\n",
              "      <th>Item_Outlet_Sales</th>\n",
              "    </tr>\n",
              "  </thead>\n",
              "  <tbody>\n",
              "    <tr>\n",
              "      <th>0</th>\n",
              "      <td>FDA15</td>\n",
              "      <td>9.30</td>\n",
              "      <td>Low Fat</td>\n",
              "      <td>0.016047</td>\n",
              "      <td>Dairy</td>\n",
              "      <td>249.8092</td>\n",
              "      <td>OUT049</td>\n",
              "      <td>1999</td>\n",
              "      <td>Medium</td>\n",
              "      <td>Tier 1</td>\n",
              "      <td>Supermarket Type1</td>\n",
              "      <td>3735.1380</td>\n",
              "    </tr>\n",
              "    <tr>\n",
              "      <th>1</th>\n",
              "      <td>DRC01</td>\n",
              "      <td>5.92</td>\n",
              "      <td>Regular</td>\n",
              "      <td>0.019278</td>\n",
              "      <td>Soft Drinks</td>\n",
              "      <td>48.2692</td>\n",
              "      <td>OUT018</td>\n",
              "      <td>2009</td>\n",
              "      <td>Medium</td>\n",
              "      <td>Tier 3</td>\n",
              "      <td>Supermarket Type2</td>\n",
              "      <td>443.4228</td>\n",
              "    </tr>\n",
              "    <tr>\n",
              "      <th>2</th>\n",
              "      <td>FDN15</td>\n",
              "      <td>17.50</td>\n",
              "      <td>Low Fat</td>\n",
              "      <td>0.016760</td>\n",
              "      <td>Meat</td>\n",
              "      <td>141.6180</td>\n",
              "      <td>OUT049</td>\n",
              "      <td>1999</td>\n",
              "      <td>Medium</td>\n",
              "      <td>Tier 1</td>\n",
              "      <td>Supermarket Type1</td>\n",
              "      <td>2097.2700</td>\n",
              "    </tr>\n",
              "    <tr>\n",
              "      <th>3</th>\n",
              "      <td>FDX07</td>\n",
              "      <td>19.20</td>\n",
              "      <td>Regular</td>\n",
              "      <td>0.000000</td>\n",
              "      <td>Fruits and Vegetables</td>\n",
              "      <td>182.0950</td>\n",
              "      <td>OUT010</td>\n",
              "      <td>1998</td>\n",
              "      <td>NaN</td>\n",
              "      <td>Tier 3</td>\n",
              "      <td>Grocery Store</td>\n",
              "      <td>732.3800</td>\n",
              "    </tr>\n",
              "    <tr>\n",
              "      <th>4</th>\n",
              "      <td>NCD19</td>\n",
              "      <td>8.93</td>\n",
              "      <td>Low Fat</td>\n",
              "      <td>0.000000</td>\n",
              "      <td>Household</td>\n",
              "      <td>53.8614</td>\n",
              "      <td>OUT013</td>\n",
              "      <td>1987</td>\n",
              "      <td>High</td>\n",
              "      <td>Tier 3</td>\n",
              "      <td>Supermarket Type1</td>\n",
              "      <td>994.7052</td>\n",
              "    </tr>\n",
              "  </tbody>\n",
              "</table>\n",
              "</div>"
            ],
            "text/plain": [
              "  Item_Identifier  Item_Weight Item_Fat_Content  Item_Visibility  \\\n",
              "0           FDA15         9.30          Low Fat         0.016047   \n",
              "1           DRC01         5.92          Regular         0.019278   \n",
              "2           FDN15        17.50          Low Fat         0.016760   \n",
              "3           FDX07        19.20          Regular         0.000000   \n",
              "4           NCD19         8.93          Low Fat         0.000000   \n",
              "\n",
              "               Item_Type  Item_MRP Outlet_Identifier  \\\n",
              "0                  Dairy  249.8092            OUT049   \n",
              "1            Soft Drinks   48.2692            OUT018   \n",
              "2                   Meat  141.6180            OUT049   \n",
              "3  Fruits and Vegetables  182.0950            OUT010   \n",
              "4              Household   53.8614            OUT013   \n",
              "\n",
              "   Outlet_Establishment_Year Outlet_Size Outlet_Location_Type  \\\n",
              "0                       1999      Medium               Tier 1   \n",
              "1                       2009      Medium               Tier 3   \n",
              "2                       1999      Medium               Tier 1   \n",
              "3                       1998         NaN               Tier 3   \n",
              "4                       1987        High               Tier 3   \n",
              "\n",
              "         Outlet_Type  Item_Outlet_Sales  \n",
              "0  Supermarket Type1          3735.1380  \n",
              "1  Supermarket Type2           443.4228  \n",
              "2  Supermarket Type1          2097.2700  \n",
              "3      Grocery Store           732.3800  \n",
              "4  Supermarket Type1           994.7052  "
            ]
          },
          "execution_count": 6,
          "metadata": {},
          "output_type": "execute_result"
        }
      ],
      "source": [
        "print(df_sales.shape)\n",
        "df_sales.head()"
      ]
    },
    {
      "cell_type": "code",
      "execution_count": 7,
      "metadata": {
        "colab": {
          "base_uri": "https://localhost:8080/"
        },
        "id": "l_Hfb8Y2sXqB",
        "outputId": "7585e013-9d03-400e-a69f-3954570eac17"
      },
      "outputs": [
        {
          "data": {
            "text/plain": [
              "(8523, 12)"
            ]
          },
          "execution_count": 7,
          "metadata": {},
          "output_type": "execute_result"
        }
      ],
      "source": [
        "# data shape\n",
        "df_sales.shape"
      ]
    },
    {
      "cell_type": "code",
      "execution_count": 8,
      "metadata": {
        "colab": {
          "base_uri": "https://localhost:8080/"
        },
        "id": "Yt3VNMa_01Xz",
        "outputId": "c5112b2d-76ed-4e2f-a277-d37275b66582"
      },
      "outputs": [
        {
          "data": {
            "text/plain": [
              "Item_Identifier               object\n",
              "Item_Weight                  float64\n",
              "Item_Fat_Content              object\n",
              "Item_Visibility              float64\n",
              "Item_Type                     object\n",
              "Item_MRP                     float64\n",
              "Outlet_Identifier             object\n",
              "Outlet_Establishment_Year      int64\n",
              "Outlet_Size                   object\n",
              "Outlet_Location_Type          object\n",
              "Outlet_Type                   object\n",
              "Item_Outlet_Sales            float64\n",
              "dtype: object"
            ]
          },
          "execution_count": 8,
          "metadata": {},
          "output_type": "execute_result"
        }
      ],
      "source": [
        "# data types\n",
        "df_sales.dtypes"
      ]
    },
    {
      "cell_type": "code",
      "execution_count": 9,
      "metadata": {
        "id": "fGLvajtoYNki"
      },
      "outputs": [],
      "source": [
        "# Change the \"Outlet_Establishment_Year\" feature type\n",
        "df_sales.Outlet_Establishment_Year = df_sales.Outlet_Establishment_Year.astype(\"str\")"
      ]
    },
    {
      "cell_type": "code",
      "execution_count": 10,
      "metadata": {
        "colab": {
          "base_uri": "https://localhost:8080/"
        },
        "id": "ZmPOTi9n1DPa",
        "outputId": "dd3369e1-5253-4a4a-ea51-b886ac7c5750"
      },
      "outputs": [
        {
          "data": {
            "text/plain": [
              "0"
            ]
          },
          "execution_count": 10,
          "metadata": {},
          "output_type": "execute_result"
        }
      ],
      "source": [
        "# check if there are duplicates\n",
        "df_sales.duplicated().sum()"
      ]
    },
    {
      "cell_type": "code",
      "execution_count": 11,
      "metadata": {
        "colab": {
          "base_uri": "https://localhost:8080/"
        },
        "id": "r6l_DUYESVzq",
        "outputId": "b7075e22-0d67-4a47-8099-9d7059b2928c"
      },
      "outputs": [
        {
          "data": {
            "text/plain": [
              "Item_Weight    0.17\n",
              "Outlet_Size    0.28\n",
              "dtype: float64"
            ]
          },
          "execution_count": 11,
          "metadata": {},
          "output_type": "execute_result"
        }
      ],
      "source": [
        "# normalized numbers of missing values\n",
        "sr_nan = (df_sales.isna().sum())/df_sales.shape[0]\n",
        "sr_nan[sr_nan!=0].round(2)"
      ]
    },
    {
      "cell_type": "code",
      "execution_count": 12,
      "metadata": {
        "id": "kcHm_RO0g1Se"
      },
      "outputs": [],
      "source": [
        "def replace_nan_id(df, id, column):\n",
        "    index = df.index\n",
        "    values = df.groupby(id).first()[column]\n",
        "    values_dict = values.to_dict()\n",
        "    df_reindexed = df.set_index(id)\n",
        "    df_addressed = df_reindexed[column].fillna(values_dict).reset_index()\n",
        "    return df_addressed.reindex(index)[column]"
      ]
    },
    {
      "cell_type": "code",
      "execution_count": 13,
      "metadata": {
        "id": "FHCIFf0sg18c"
      },
      "outputs": [],
      "source": [
        "# replace missing values depending on the ids\n",
        "df_sales[\"Item_Weight\"] = replace_nan_id(df_sales, \"Item_Identifier\", \"Item_Weight\")\n",
        "df_sales[\"Outlet_Size\"] = replace_nan_id(df_sales, \"Outlet_Identifier\", \"Outlet_Size\")"
      ]
    },
    {
      "cell_type": "code",
      "execution_count": 14,
      "metadata": {
        "colab": {
          "base_uri": "https://localhost:8080/"
        },
        "id": "EEYGXrc7ii1O",
        "outputId": "702c7e19-e20f-4ddf-9b41-52c944f77252"
      },
      "outputs": [
        {
          "data": {
            "text/plain": [
              "Item_Weight    0.0005\n",
              "Outlet_Size    0.2828\n",
              "dtype: float64"
            ]
          },
          "execution_count": 14,
          "metadata": {},
          "output_type": "execute_result"
        }
      ],
      "source": [
        "# normalized numbers of missing values after replacement\n",
        "sr_nan = (df_sales.isna().sum())/df_sales.shape[0]\n",
        "sr_nan[sr_nan!=0].round(4)"
      ]
    },
    {
      "cell_type": "markdown",
      "metadata": {
        "id": "qt40YALuoQrE"
      },
      "source": [
        "the number of missing values for the \"Item_Weight\" feature is not significant so can drop the correspondent rows"
      ]
    },
    {
      "cell_type": "code",
      "execution_count": 15,
      "metadata": {
        "id": "5ZgcLMLhoHn3"
      },
      "outputs": [],
      "source": [
        "# drop rows with missing values for the \"Item_Weight\" feature\n",
        "df_sales.dropna(subset=\"Item_Weight\", inplace=True)"
      ]
    },
    {
      "cell_type": "code",
      "execution_count": 16,
      "metadata": {
        "id": "u-5NMiGKMkEU"
      },
      "outputs": [],
      "source": [
        "# drop useless features\n",
        "df_sales.drop(columns=[\"Item_Identifier\",\"Outlet_Identifier\"], inplace=True)"
      ]
    },
    {
      "cell_type": "code",
      "execution_count": 17,
      "metadata": {
        "colab": {
          "base_uri": "https://localhost:8080/"
        },
        "id": "l3cdEfmTU4Qf",
        "outputId": "a89121bd-faa6-46cc-9cde-cfd9ef096ad3"
      },
      "outputs": [
        {
          "name": "stdout",
          "output_type": "stream",
          "text": [
            "* Item_Type: 16\n",
            "* Outlet_Establishment_Year: 9\n",
            "* Outlet_Size: 4\n",
            "* Outlet_Location_Type: 3\n",
            "* Outlet_Type: 4\n"
          ]
        }
      ],
      "source": [
        "# categorical features cardinalities\n",
        "cat_cols = df_sales.select_dtypes(\"object\").columns.delete(0)\n",
        "for c in cat_cols :\n",
        "    print(f\"* {c}: {len(df_sales[c].unique())}\")"
      ]
    },
    {
      "cell_type": "code",
      "execution_count": 18,
      "metadata": {
        "colab": {
          "base_uri": "https://localhost:8080/"
        },
        "id": "XAyzweMzmHh7",
        "outputId": "ee460904-5b85-4464-efd6-19ff0b5060db"
      },
      "outputs": [
        {
          "name": "stdout",
          "output_type": "stream",
          "text": [
            "* Item_Type: ['Dairy' 'Soft Drinks' 'Meat' 'Fruits and Vegetables' 'Household'\n",
            " 'Baking Goods' 'Snack Foods' 'Frozen Foods' 'Breakfast'\n",
            " 'Health and Hygiene' 'Hard Drinks' 'Canned' 'Breads' 'Starchy Foods'\n",
            " 'Others' 'Seafood']\n",
            "* Outlet_Establishment_Year: ['1999' '2009' '1998' '1987' '1985' '2002' '2007' '1997' '2004']\n",
            "* Outlet_Size: ['Medium' None 'High' 'Small']\n",
            "* Outlet_Location_Type: ['Tier 1' 'Tier 3' 'Tier 2']\n",
            "* Outlet_Type: ['Supermarket Type1' 'Supermarket Type2' 'Grocery Store'\n",
            " 'Supermarket Type3']\n"
          ]
        }
      ],
      "source": [
        "# check for inconsistencies in classes\n",
        "df_count = pd.DataFrame\n",
        "for c in cat_cols :\n",
        "  print(f\"* {c}: {df_sales[c].unique()}\")"
      ]
    },
    {
      "cell_type": "code",
      "execution_count": 19,
      "metadata": {
        "id": "hQHBgmWCpX0r"
      },
      "outputs": [],
      "source": [
        "# fixing inconsistent categories of data\n",
        "df_sales.replace({'LF': 'Low Fat', 'low fat': 'Low Fat', 'reg':'Regular'}, inplace=True)"
      ]
    },
    {
      "cell_type": "code",
      "execution_count": 20,
      "metadata": {
        "colab": {
          "base_uri": "https://localhost:8080/"
        },
        "id": "Kz4FlwOMTWel",
        "outputId": "476a3d60-bcfe-4757-8d7d-d8781ade8986"
      },
      "outputs": [
        {
          "name": "stdout",
          "output_type": "stream",
          "text": [
            "* Item_Fat_Content:\n",
            "Low Fat    5516\n",
            "Regular    3003\n",
            "Name: Item_Fat_Content, dtype: int64\n",
            "\n",
            "* Item_Type:\n",
            "Fruits and Vegetables    1232\n",
            "Snack Foods              1199\n",
            "Household                 910\n",
            "Frozen Foods              855\n",
            "Dairy                     681\n",
            "Canned                    649\n",
            "Baking Goods              647\n",
            "Health and Hygiene        520\n",
            "Soft Drinks               445\n",
            "Meat                      425\n",
            "Breads                    251\n",
            "Hard Drinks               214\n",
            "Others                    169\n",
            "Starchy Foods             148\n",
            "Breakfast                 110\n",
            "Seafood                    64\n",
            "Name: Item_Type, dtype: int64\n",
            "\n",
            "* Outlet_Establishment_Year:\n",
            "1985    1459\n",
            "1987     932\n",
            "1999     930\n",
            "1997     930\n",
            "2004     930\n",
            "2002     929\n",
            "2009     928\n",
            "2007     926\n",
            "1998     555\n",
            "Name: Outlet_Establishment_Year, dtype: int64\n",
            "\n",
            "* Outlet_Size:\n",
            "Medium    2790\n",
            "Small     2387\n",
            "High       932\n",
            "Name: Outlet_Size, dtype: int64\n",
            "\n",
            "* Outlet_Location_Type:\n",
            "Tier 3    3347\n",
            "Tier 2    2785\n",
            "Tier 1    2387\n",
            "Name: Outlet_Location_Type, dtype: int64\n",
            "\n",
            "* Outlet_Type:\n",
            "Supermarket Type1    5577\n",
            "Grocery Store        1082\n",
            "Supermarket Type3     932\n",
            "Supermarket Type2     928\n",
            "Name: Outlet_Type, dtype: int64\n",
            "\n"
          ]
        }
      ],
      "source": [
        "# number of samples for categorical features classes\n",
        "cat_cols = df_sales.select_dtypes(\"object\").columns\n",
        "for c in cat_cols:\n",
        "  print(f\"* {c}:\\n{df_sales[c].value_counts()}\\n\")"
      ]
    },
    {
      "cell_type": "code",
      "execution_count": 21,
      "metadata": {
        "colab": {
          "base_uri": "https://localhost:8080/"
        },
        "id": "md3poKrPr6V-",
        "outputId": "3176b855-940a-44f5-879a-8f566b7326b6"
      },
      "outputs": [
        {
          "data": {
            "text/plain": [
              "array(['Grocery Store', 'Supermarket Type1'], dtype=object)"
            ]
          },
          "execution_count": 21,
          "metadata": {},
          "output_type": "execute_result"
        }
      ],
      "source": [
        "# Types of outlets with missing values for the size\n",
        "df_nan_type = df_sales[df_sales.Outlet_Size.isna()].Outlet_Type.unique()\n",
        "df_nan_type"
      ]
    },
    {
      "cell_type": "code",
      "execution_count": 22,
      "metadata": {
        "colab": {
          "base_uri": "https://localhost:8080/",
          "height": 615
        },
        "id": "hCD7xWf059Hc",
        "outputId": "0518b89a-7ca5-4117-ea75-e3be27a4e39e"
      },
      "outputs": [
        {
          "data": {
            "text/plain": [
              "<Axes: xlabel='Outlet_Type', ylabel='Outlet_Size'>"
            ]
          },
          "execution_count": 22,
          "metadata": {},
          "output_type": "execute_result"
        },
        {
          "data": {
            "image/png": "[encoded data removed]",
            "text/plain": [
              "<Figure size 640x480 with 2 Axes>"
            ]
          },
          "metadata": {},
          "output_type": "display_data"
        }
      ],
      "source": [
        "# contingency matrix\n",
        "contingency_table = pd.crosstab(df_sales['Outlet_Size'],df_sales['Outlet_Type'], normalize=\"columns\")\n",
        "sns.heatmap(contingency_table, vmin=0, vmax=1, annot=True, fmt=\".2f\", cmap=\"Greens\")"
      ]
    },
    {
      "cell_type": "markdown",
      "metadata": {
        "id": "_EB3aCz48mMz"
      },
      "source": [
        "Grocery stores are all small and supermarkets type 1 are more likely to be small"
      ]
    },
    {
      "cell_type": "code",
      "execution_count": 23,
      "metadata": {
        "id": "h5nKwrmEoqfN"
      },
      "outputs": [],
      "source": [
        "# replacing missing outlets sizes\n",
        "df_sales.Outlet_Size.fillna(\"Small\", inplace=True)"
      ]
    },
    {
      "cell_type": "code",
      "execution_count": 24,
      "metadata": {
        "id": "0MPjcv_wxQ3R"
      },
      "outputs": [],
      "source": [
        "def combine_classes(data, features, treshold, rep_class, special_classes=[]):\n",
        "  data[features] = data[features].replace(special_classes, rep_class)\n",
        "  for cf in features:\n",
        "      cardinal_classes = data[cf].value_counts()\n",
        "      n_classes = len(data[cf].dropna().unique())\n",
        "      if n_classes==1:\n",
        "          data.drop(columns=cf, inplace=True)\n",
        "          print(f'- \"{cf}\" feature was dropped, it is constant')\n",
        "      class_to_rep = cardinal_classes[cardinal_classes<treshold].index\n",
        "      n_class_to_rep = len(class_to_rep)\n",
        "      if n_class_to_rep != 0:\n",
        "          n = n_classes - n_class_to_rep\n",
        "          if n==0 :\n",
        "              data.drop(columns=cf, inplace=True)\n",
        "              print(f'- \"{cf}\" feature was dropped, all classes are not representative')\n",
        "          else:\n",
        "              data[cf] = data[cf].replace(class_to_rep, rep_class)\n",
        "              if (n==1) and (data[cf].value_counts()[rep_class] < treshold):\n",
        "                  data.drop(columns=cf, inplace=True)\n",
        "                  print(f'- \"{cf}\" feature was dropped, minority class is not representative')\n",
        "              elif data[cf].value_counts()[rep_class] < treshold:\n",
        "                  last_class_over_tresh = cardinal_classes[cardinal_classes>=treshold].index[-1]\n",
        "                  data[cf] = data[cf].replace(last_class_over_tresh, rep_class)\n",
        "                  print(f'- \"{last_class_over_tresh}\" class of the \"{cf}\" feature has been changed to \"{rep_class}\"')"
      ]
    },
    {
      "cell_type": "code",
      "execution_count": 25,
      "metadata": {
        "id": "ECyjS221xTuc"
      },
      "outputs": [],
      "source": [
        "# combine classes\n",
        "cat_cols = df_sales.select_dtypes(\"object\").columns.delete(2)\n",
        "combine_classes(df_sales, cat_cols, 800, \"other\")"
      ]
    },
    {
      "cell_type": "code",
      "execution_count": 26,
      "metadata": {
        "id": "_o138Ybo6F5T"
      },
      "outputs": [],
      "source": [
        "# combine \"1998\" and \"1999\" \"Outlet_Establishment_Year\" feature classes\n",
        "df_sales.Outlet_Establishment_Year.replace([1998, 1999], \"1998-1999\", inplace=True)"
      ]
    },
    {
      "cell_type": "code",
      "execution_count": 27,
      "metadata": {
        "colab": {
          "base_uri": "https://localhost:8080/",
          "height": 1000
        },
        "id": "wHoai7S1VFak",
        "outputId": "f13a3b16-1a82-4152-b3a9-8ac8c1eee2ec"
      },
      "outputs": [
        {
          "data": {
            "image/png": "[encoded data removed]",
            "text/plain": [
              "<Figure size 600x400 with 2 Axes>"
            ]
          },
          "metadata": {},
          "output_type": "display_data"
        },
        {
          "data": {
            "image/png": "[encoded data removed]",
            "text/plain": [
              "<Figure size 600x400 with 2 Axes>"
            ]
          },
          "metadata": {},
          "output_type": "display_data"
        },
        {
          "data": {
            "image/png": "[encoded data removed]",
            "text/plain": [
              "<Figure size 600x400 with 2 Axes>"
            ]
          },
          "metadata": {},
          "output_type": "display_data"
        }
      ],
      "source": [
        "# histograms and boxplots of numerical variables\n",
        "num_cols = df_sales.select_dtypes(\"float\").columns.delete(0)\n",
        "for c in num_cols:\n",
        "  gridspec = {'height_ratios':[0.8,0.2]}\n",
        "  fig, axes = plt.subplots(nrows=2, figsize=(6,4),\n",
        "                           sharex=True, gridspec_kw=gridspec)\n",
        "  sns.histplot(data=df_sales, x=c, color=\"#5C6BC0\", alpha=0.8, ax=axes[0])\n",
        "  sns.boxplot(data=df_sales, x=c, color=\"#5C6BC0\", boxprops=dict(alpha=0.8),\n",
        "              ax=axes[1])\n",
        "  axes[0].grid(axis=\"x\")\n",
        "  fig.tight_layout()\n",
        "  plt.show()"
      ]
    },
    {
      "cell_type": "code",
      "execution_count": 28,
      "metadata": {
        "colab": {
          "base_uri": "https://localhost:8080/",
          "height": 597
        },
        "id": "f-6IrwhlWgPv",
        "outputId": "6da30c12-4b11-45a0-e6e1-de33efce5aa8"
      },
      "outputs": [
        {
          "data": {
            "text/plain": [
              "Text(0.5, 1.0, 'Numerical Features Correlations')"
            ]
          },
          "execution_count": 28,
          "metadata": {},
          "output_type": "execute_result"
        },
        {
          "data": {
            "image/png": "[encoded data removed]",
            "text/plain": [
              "<Figure size 640x480 with 2 Axes>"
            ]
          },
          "metadata": {},
          "output_type": "display_data"
        }
      ],
      "source": [
        "# numerical variables correlations\n",
        "corr_matrix = df_sales.corr()\n",
        "sns.heatmap(corr_matrix, annot=True, fmt=\".2f\", cmap=\"Greens\", vmin=0, vmax=1)\n",
        "plt.title(\"Numerical Features Correlations\")"
      ]
    },
    {
      "cell_type": "markdown",
      "metadata": {
        "id": "WcXzuCN-jlVG"
      },
      "source": [
        "There is no correlation between each pair of numerical features and target"
      ]
    },
    {
      "cell_type": "markdown",
      "metadata": {
        "id": "eYOXqPjfZIuQ"
      },
      "source": [
        "# Data Explanation"
      ]
    },
    {
      "cell_type": "code",
      "execution_count": 32,
      "metadata": {
        "colab": {
          "base_uri": "https://localhost:8080/",
          "height": 497
        },
        "id": "Gb68XejVaQVH",
        "outputId": "98974ae4-09b2-41c9-94c9-95096bf8eca3"
      },
      "outputs": [
        {
          "data": {
            "text/plain": [
              "Text(0.5, 1.0, 'Outlet Size vs. Mean Sales')"
            ]
          },
          "execution_count": 32,
          "metadata": {},
          "output_type": "execute_result"
        },
        {
          "data": {
            "image/png": "[encoded data removed]",
            "text/plain": [
              "<Figure size 640x480 with 1 Axes>"
            ]
          },
          "metadata": {},
          "output_type": "display_data"
        }
      ],
      "source": [
        "sns.barplot(data=df_sales, x=\"Outlet_Size\", y=\"Item_Outlet_Sales\", errorbar=None)\n",
        "plt.xlabel(\"Outlet Size\")\n",
        "plt.ylabel(\"Mean Sales\")\n",
        "plt.title(\"Outlet Size vs. Mean Sales\")"
      ]
    },
    {
      "cell_type": "markdown",
      "metadata": {
        "id": "Hy14VeRXMqZR"
      },
      "source": [
        "We see that sales increase in medium stotes and decrease in small ones."
      ]
    },
    {
      "cell_type": "code",
      "execution_count": 33,
      "metadata": {
        "colab": {
          "base_uri": "https://localhost:8080/",
          "height": 540
        },
        "id": "PX0QxSDhbBhI",
        "outputId": "1c3add98-a1e6-401e-cd92-f58b6bd5d3f0"
      },
      "outputs": [
        {
          "data": {
            "text/plain": [
              "<matplotlib.legend.Legend at 0x1ab124ef290>"
            ]
          },
          "execution_count": 33,
          "metadata": {},
          "output_type": "execute_result"
        },
        {
          "data": {
            "image/png": "[encoded data removed]",
            "text/plain": [
              "<Figure size 500x500 with 1 Axes>"
            ]
          },
          "metadata": {},
          "output_type": "display_data"
        }
      ],
      "source": [
        "ax = sns.lmplot(data=df_sales, x=\"Item_MRP\", y=\"Item_Outlet_Sales\", hue=\"Outlet_Type\",\n",
        "                legend=False, scatter=False, ci=None)\n",
        "plt.xlabel(\"Item MRP\")\n",
        "plt.ylabel(\"Sales Trend\")\n",
        "plt.title(\"Item MRP vs. Sales Trend\")\n",
        "plt.legend(title= \"Outlet Type\", loc='center left', bbox_to_anchor=(1, 0.5))"
      ]
    },
    {
      "cell_type": "markdown",
      "metadata": {
        "id": "M-d2gGSUNIFV"
      },
      "source": [
        "Sales trend increase linearly with the item price for each type of store"
      ]
    },
    {
      "cell_type": "markdown",
      "metadata": {
        "id": "c9kI1lmsYl5H"
      },
      "source": [
        "# Modeling & Data Preprocessing"
      ]
    },
    {
      "cell_type": "code",
      "execution_count": null,
      "metadata": {
        "id": "sNlH1K0oOhKw"
      },
      "outputs": [],
      "source": [
        "# defining features and target\n",
        "X = df_sales.drop(columns=\"Item_Outlet_Sales\")\n",
        "y = df_sales.Item_Outlet_Sales"
      ]
    },
    {
      "cell_type": "code",
      "execution_count": null,
      "metadata": {
        "id": "rnK90kQpQHCh"
      },
      "outputs": [],
      "source": [
        "# splitting dataset into training and testing data\n",
        "X_train, X_test, y_train, y_test = train_test_split(X,y,test_size=0.3,random_state=42)"
      ]
    },
    {
      "cell_type": "code",
      "execution_count": null,
      "metadata": {
        "id": "x1lBfxa93F_7"
      },
      "outputs": [],
      "source": [
        "# define a beseline model\n",
        "dummy_reg = DummyRegressor(strategy='mean')"
      ]
    },
    {
      "cell_type": "code",
      "execution_count": null,
      "metadata": {
        "id": "8H6JvL7XWKoL"
      },
      "outputs": [],
      "source": [
        "# define different parameters for models\n",
        "linear_reg_params = dict(linear_reg__positive=[True, False])\n",
        "knn_params = dict(knn__n_neighbors=[2, 5, 20, 50, 100])\n",
        "decision_tree_params = dict(decision_tree__max_depth=[None, 5, 50, 200],\n",
        "                            decision_tree__min_samples_split=[2, 20, 50, 100])\n",
        "random_forest_params = dict(random_forest__n_estimators=[5, 50, 100],\n",
        "                            random_forest__max_depth=[None, 5, 50, 200],\n",
        "                            random_forest__max_features=[1.0, 0.2, 0.5])\n",
        "adaboost_params = dict(adaboost__n_estimators= [50, 100],\n",
        "                       adaboost__learning_rate=[1.0, 0.5])\n",
        "xgboost_params = dict(xgboost__n_estimators= [100, 200, 400],\n",
        "                                   xgboost__max_depth=[6,20, 100],\n",
        "                                   xgboost__learning_rate= [0.3, 0.1])\n",
        "stacking_regressor_params = dict(stacking_regressor__estimators = [[('rf', RandomForestRegressor()),\n",
        "                                  ('svr',LinearSVR())],\n",
        "                                   [('rf', RandomForestRegressor(n_estimators=50)),\n",
        "                                  ('svr', LinearSVR())]])"
      ]
    },
    {
      "cell_type": "code",
      "execution_count": null,
      "metadata": {
        "id": "GzPlAFfLauvf"
      },
      "outputs": [],
      "source": [
        "models_dict = dict(linear_reg=[LinearRegression(), linear_reg_params],\n",
        "                   knn=[KNeighborsRegressor(), knn_params],\n",
        "                   decision_tree=[DecisionTreeRegressor(), decision_tree_params],\n",
        "                   random_forest=[RandomForestRegressor(), random_forest_params],\n",
        "                   adaboost=[AdaBoostRegressor(), adaboost_params],\n",
        "                   xgboost=[XGBRegressor(), xgboost_params],\n",
        "                   stacking_regressor=[StackingRegressor(estimators=[('rf', RandomForestRegressor()),\n",
        "                                  ('svr', LinearSVR())]), stacking_regressor_params])"
      ]
    },
    {
      "cell_type": "code",
      "execution_count": null,
      "metadata": {
        "id": "LCe7AY28sAC_"
      },
      "outputs": [],
      "source": [
        "# define numerical columns\n",
        "num_cols = X_train.select_dtypes(float).columns\n",
        "# define categorical columns\n",
        "cat_cols = X_train.select_dtypes(object).columns\n",
        "# create a column transformer for features\n",
        "cols_transformer = ColumnTransformer(((\"num_transformer\",StandardScaler(), num_cols),\n",
        "                                    (\"cat_transformer\", OneHotEncoder(sparse_output=False), cat_cols)))"
      ]
    },
    {
      "cell_type": "markdown",
      "metadata": {
        "id": "Wx5q_kALILN-"
      },
      "source": [
        "# Model Evaluation & Improvement"
      ]
    },
    {
      "cell_type": "code",
      "execution_count": null,
      "metadata": {
        "id": "oQeJQUEOtbrL"
      },
      "outputs": [],
      "source": [
        "# display metrics for regression model\n",
        "def regression_metrics(model, X_train, X_test, y_train, y_test):\n",
        "    y_train_pred = model.predict(X_train)\n",
        "    y_test_pred = model.predict(X_test)\n",
        "    tab = tabulate([[\"Metric\", \"Training Set\", \"Test Set\"],\n",
        "                  [\"r2\", r2_score(y_train, y_train_pred), r2_score(y_test, y_test_pred)],\n",
        "                  [\"MSE\", mean_squared_error(y_train, y_train_pred), mean_squared_error(y_test, y_test_pred)],\n",
        "                  [\"MAE\", mean_absolute_error(y_train, y_train_pred), mean_absolute_error(y_test, y_test_pred)],\n",
        "                  [\"RMSE\", mean_squared_error(y_train, y_train_pred, squared=False), mean_squared_error(y_test, y_test_pred, squared=False)]],\n",
        "                headers='firstrow', numalign=\"left\")\n",
        "    return tab"
      ]
    },
    {
      "cell_type": "code",
      "execution_count": null,
      "metadata": {
        "colab": {
          "base_uri": "https://localhost:8080/"
        },
        "id": "_srzJaOJ3TZH",
        "outputId": "22cecf43-ca51-4940-c456-04fa1aef539e"
      },
      "outputs": [
        {
          "name": "stdout",
          "output_type": "stream",
          "text": [
            "Metric    Training Set    Test Set\n",
            "--------  --------------  ------------\n",
            "r2        0               -0.000389328\n",
            "MSE       2.92413e+06     2.8835e+06\n",
            "MAE       1348.19         1348.31\n",
            "RMSE      1710.01         1698.09\n"
          ]
        }
      ],
      "source": [
        "# create a pipeline for the baseline model\n",
        "pipeline_bseline_reg = Pipeline([(\"preprocessor\", cols_transformer),(\"dummy regressor\", dummy_reg)])\n",
        "# baseline model metrics\n",
        "print(regression_metrics(pipeline_bseline_reg, X_train, X_test, y_train, y_test))"
      ]
    },
    {
      "cell_type": "code",
      "execution_count": null,
      "metadata": {
        "colab": {
          "base_uri": "https://localhost:8080/"
        },
        "id": "9zyQ0FWdtT5Q",
        "outputId": "70ee26fc-9f78-4aaa-d2a1-25834b57c6f8"
      },
      "outputs": [
        {
          "name": "stdout",
          "output_type": "stream",
          "text": [
            "* linear_reg\n",
            "Metric    Training Set    Test Set\n",
            "--------  --------------  -----------\n",
            "r2        0.562825        0.564133\n",
            "MSE       1.27836e+06     1.25633e+06\n",
            "MAE       840.278         826.401\n",
            "RMSE      1130.64         1120.86\n",
            "\n",
            "* knn\n",
            "Metric    Training Set    Test Set\n",
            "--------  --------------  -----------\n",
            "r2        0.675341        0.499559\n",
            "MSE       949344          1.44246e+06\n",
            "MAE       688.974         857.498\n",
            "RMSE      974.343         1201.02\n",
            "\n",
            "* decision_tree\n",
            "Metric    Training Set    Test Set\n",
            "--------  --------------  -----------\n",
            "r2        1               0.178819\n",
            "MSE       0               2.36695e+06\n",
            "MAE       0               1073.82\n",
            "RMSE      0               1538.49\n",
            "\n",
            "* random_forest\n",
            "Metric    Training Set    Test Set\n",
            "--------  --------------  -----------\n",
            "r2        0.938894        0.553575\n",
            "MSE       178681          1.28676e+06\n",
            "MAE       294.23          790.227\n",
            "RMSE      422.706         1134.36\n",
            "\n",
            "* adaboost\n",
            "Metric    Training Set    Test Set\n",
            "--------  --------------  -----------\n",
            "r2        0.502036        0.48622\n",
            "MSE       1.45611e+06     1.48091e+06\n",
            "MAE       965.7           970.104\n",
            "RMSE      1206.69         1216.93\n",
            "\n",
            "* xgboost\n",
            "Metric    Training Set    Test Set\n",
            "--------  --------------  -----------\n",
            "r2        0.887481        0.527217\n",
            "MSE       329019          1.36274e+06\n",
            "MAE       417.783         825.61\n",
            "RMSE      573.602         1167.36\n",
            "\n",
            "* stacking_regressor\n",
            "Metric    Training Set    Test Set\n",
            "--------  --------------  -----------\n",
            "r2        0.849602        0.578324\n",
            "MSE       439782          1.21543e+06\n",
            "MAE       483.31          786.732\n",
            "RMSE      663.161         1102.46\n",
            "\n"
          ]
        }
      ],
      "source": [
        "for model in models_dict.keys():\n",
        "  pipeline = Pipeline([(\"preprocessor\", cols_transformer),(model, models_dict[model][0])])\n",
        "  pipeline.fit(X_train, y_train)\n",
        "  print(f\"* {pipeline.steps[-1][0]}\\n{regression_metrics(pipeline, X_train, X_test, y_train, y_test)}\\n\")"
      ]
    },
    {
      "cell_type": "markdown",
      "metadata": {
        "id": "ctgTq99NPLvZ"
      },
      "source": [
        "For a default tuing, all models outperform the baseline model and the stacking regressor has the best MAE score (786.73)"
      ]
    },
    {
      "cell_type": "code",
      "execution_count": null,
      "metadata": {
        "colab": {
          "base_uri": "https://localhost:8080/"
        },
        "id": "kriYvUSa4VlE",
        "outputId": "e3ca5508-f49f-444d-f136-f53a556fc4ff"
      },
      "outputs": [
        {
          "name": "stdout",
          "output_type": "stream",
          "text": [
            "* linear_reg\n",
            "  - Best Score: 843.3301347849713\n",
            "  - Best Parameters: {'linear_reg__positive': False}\n",
            "* knn\n",
            "  - Best Score: 947.6523980918613\n",
            "  - Best Parameters: {'knn__n_neighbors': 2}\n",
            "* decision_tree\n",
            "  - Best Score: 1093.9113736306585\n",
            "  - Best Parameters: {'decision_tree__max_depth': None, 'decision_tree__min_samples_split': 2}\n",
            "* random_forest\n",
            "  - Best Score: 1126.63239049753\n",
            "  - Best Parameters: {'random_forest__max_depth': 5, 'random_forest__max_features': 1, 'random_forest__n_estimators': 5}\n",
            "* adaboost\n",
            "  - Best Score: 1009.171094912308\n",
            "  - Best Parameters: {'adaboost__learning_rate': 1.0, 'adaboost__n_estimators': 50}\n",
            "* xgboost\n",
            "  - Best Score: 907.889311129364\n",
            "  - Best Parameters: {'xgboost__learning_rate': 0.3, 'xgboost__max_depth': 6, 'xgboost__n_estimators': 400}\n",
            "* stacking_regressor\n",
            "  - Best Score: 804.4715602549119\n",
            "  - Best Parameters: {'stacking_regressor__estimators': [('rf', RandomForestRegressor(n_estimators=50)), ('svr', LinearSVR(random_state=42))]}\n"
          ]
        }
      ],
      "source": [
        "for model in models_dict.keys():\n",
        "  pipeline = Pipeline([(\"preprocessor\",cols_transformer),(model,models_dict[model][0])])\n",
        "  grid_search = GridSearchCV(pipeline, models_dict[model][1],\n",
        "                            scoring=make_scorer(mean_absolute_error), error_score=\"raise\")\n",
        "  grid_search.fit(X_train, y_train)\n",
        "  print(f\"* {model}\\n  - Best Score: {grid_search.best_score_}\\n  - Best Parameters: {grid_search.best_params_}\")"
      ]
    },
    {
      "cell_type": "markdown",
      "metadata": {
        "id": "4DeHx10pzc81"
      },
      "source": [
        "The stacking regressor has the best score so it is the most generalized model."
      ]
    },
    {
      "cell_type": "code",
      "execution_count": null,
      "metadata": {
        "colab": {
          "base_uri": "https://localhost:8080/"
        },
        "id": "W07-lQ8uz2Rf",
        "outputId": "610afc1a-dd7c-444c-a23a-52c1859daa50"
      },
      "outputs": [
        {
          "name": "stdout",
          "output_type": "stream",
          "text": [
            "Metric    Training Set    Test Set\n",
            "--------  --------------  ----------\n",
            "r2        0.847247        0.578124\n",
            "MSE       446670          1.216e+06\n",
            "MAE       488.758         784.727\n",
            "RMSE      668.334         1102.73\n"
          ]
        }
      ],
      "source": [
        "# define stacking model tuned with the best tested parameters\n",
        "stacking_regressor = StackingRegressor(estimators=[('rf', RandomForestRegressor(n_estimators=50)),\n",
        "                                    ('svr', LinearSVR())])\n",
        "# create and fit pipeline\n",
        "pipeline = Pipeline([(\"preprocessor\",cols_transformer),(\"stacking regressor\",stacking_regressor)])\n",
        "pipeline.fit(X_train, y_train)\n",
        "# display metrics\n",
        "print(regression_metrics(pipeline, X_train, X_test, y_train, y_test))"
      ]
    },
    {
      "cell_type": "code",
      "execution_count": null,
      "metadata": {
        "colab": {
          "base_uri": "https://localhost:8080/"
        },
        "id": "0446lobH7YbB",
        "outputId": "6545a4c4-5046-4a8f-999b-b23f1236de64"
      },
      "outputs": [
        {
          "name": "stdout",
          "output_type": "stream",
          "text": [
            "Metric    Training Set    Test Set\n",
            "--------  --------------  -----------\n",
            "r2        0.823825        0.577314\n",
            "MSE       515160          1.21834e+06\n",
            "MAE       525.625         796.644\n",
            "RMSE      717.746         1103.78\n"
          ]
        }
      ],
      "source": [
        "# use stacking model with PCA\n",
        "cols_transformer_pca = ColumnTransformer(((\"num_transformer\", make_pipeline(StandardScaler(),PCA(n_components=0.95)), num_cols),\n",
        "                                    (\"cat_transformer\", OneHotEncoder(sparse_output=False), cat_cols)))\n",
        "pipeline_pca = Pipeline([(\"preprocessor\",cols_transformer_pca),(\"stacking regressor with PCA\", stacking_regressor)])\n",
        "pipeline_pca.fit(X_train, y_train)\n",
        "print(regression_metrics(pipeline_pca, X_train, X_test, y_train, y_test))"
      ]
    },
    {
      "cell_type": "markdown",
      "metadata": {
        "id": "VztzKu0M8Otq"
      },
      "source": [
        "The performance of the model decreased by PCA"
      ]
    },
    {
      "cell_type": "markdown",
      "metadata": {
        "id": "oMTCo_RKIU19"
      },
      "source": [
        "# Model Interpretation"
      ]
    },
    {
      "cell_type": "markdown",
      "metadata": {
        "id": "fjtbtEaLCI-M"
      },
      "source": [
        "The R2 score shows that the model is explaining about 56% of the variance  in the target which is not perfect. Depending on the MAE score, the model tends to make an error of about 812$, and since the root mean squared error is significantly higher than the mean absolute error, this shows us that it has made some larger errors on some samples."
      ]
    },
    {
      "cell_type": "code",
      "execution_count": null,
      "metadata": {
        "colab": {
          "base_uri": "https://localhost:8080/",
          "height": 332
        },
        "id": "7cMAthRO8kDA",
        "outputId": "6da65f6d-89ce-4efe-821a-04a0c51015a5"
      },
      "outputs": [
        {
          "data": {
            "text/html": [
              "\n",
              "  <div id=\"df-cc6705c2-fea4-4021-88a9-ba619ccfcbff\" class=\"colab-df-container\">\n",
              "    <div>\n",
              "<style scoped>\n",
              "    .dataframe tbody tr th:only-of-type {\n",
              "        vertical-align: middle;\n",
              "    }\n",
              "\n",
              "    .dataframe tbody tr th {\n",
              "        vertical-align: top;\n",
              "    }\n",
              "\n",
              "    .dataframe thead th {\n",
              "        text-align: right;\n",
              "    }\n",
              "</style>\n",
              "<table border=\"1\" class=\"dataframe\">\n",
              "  <thead>\n",
              "    <tr style=\"text-align: right;\">\n",
              "      <th></th>\n",
              "      <th>Feature</th>\n",
              "      <th>Importance</th>\n",
              "    </tr>\n",
              "  </thead>\n",
              "  <tbody>\n",
              "    <tr>\n",
              "      <th>4</th>\n",
              "      <td>Item_MRP</td>\n",
              "      <td>897.746587</td>\n",
              "    </tr>\n",
              "    <tr>\n",
              "      <th>8</th>\n",
              "      <td>Outlet_Type</td>\n",
              "      <td>431.129838</td>\n",
              "    </tr>\n",
              "    <tr>\n",
              "      <th>2</th>\n",
              "      <td>Item_Visibility</td>\n",
              "      <td>171.871550</td>\n",
              "    </tr>\n",
              "    <tr>\n",
              "      <th>0</th>\n",
              "      <td>Item_Weight</td>\n",
              "      <td>160.704949</td>\n",
              "    </tr>\n",
              "    <tr>\n",
              "      <th>5</th>\n",
              "      <td>Outlet_Establishment_Year</td>\n",
              "      <td>157.820695</td>\n",
              "    </tr>\n",
              "    <tr>\n",
              "      <th>3</th>\n",
              "      <td>Item_Type</td>\n",
              "      <td>74.992027</td>\n",
              "    </tr>\n",
              "    <tr>\n",
              "      <th>7</th>\n",
              "      <td>Outlet_Location_Type</td>\n",
              "      <td>43.069042</td>\n",
              "    </tr>\n",
              "    <tr>\n",
              "      <th>6</th>\n",
              "      <td>Outlet_Size</td>\n",
              "      <td>38.988799</td>\n",
              "    </tr>\n",
              "    <tr>\n",
              "      <th>1</th>\n",
              "      <td>Item_Fat_Content</td>\n",
              "      <td>24.237248</td>\n",
              "    </tr>\n",
              "  </tbody>\n",
              "</table>\n",
              "</div>\n",
              "    <div class=\"colab-df-buttons\">\n",
              "\n",
              "  <div class=\"colab-df-container\">\n",
              "    <button class=\"colab-df-convert\" onclick=\"convertToInteractive('df-cc6705c2-fea4-4021-88a9-ba619ccfcbff')\"\n",
              "            title=\"Convert this dataframe to an interactive table.\"\n",
              "            style=\"display:none;\">\n",
              "\n",
              "  <svg xmlns=\"http://www.w3.org/2000/svg\" height=\"24px\" viewBox=\"0 -960 960 960\">\n",
              "    <path d=\"M120-120v-720h720v720H120Zm60-500h600v-160H180v160Zm220 220h160v-160H400v160Zm0 220h160v-160H400v160ZM180-400h160v-160H180v160Zm440 0h160v-160H620v160ZM180-180h160v-160H180v160Zm440 0h160v-160H620v160Z\"/>\n",
              "  </svg>\n",
              "    </button>\n",
              "\n",
              "  <style>\n",
              "    .colab-df-container {\n",
              "      display:flex;\n",
              "      gap: 12px;\n",
              "    }\n",
              "\n",
              "    .colab-df-convert {\n",
              "      background-color: #E8F0FE;\n",
              "      border: none;\n",
              "      border-radius: 50%;\n",
              "      cursor: pointer;\n",
              "      display: none;\n",
              "      fill: #1967D2;\n",
              "      height: 32px;\n",
              "      padding: 0 0 0 0;\n",
              "      width: 32px;\n",
              "    }\n",
              "\n",
              "    .colab-df-convert:hover {\n",
              "      background-color: #E2EBFA;\n",
              "      box-shadow: 0px 1px 2px rgba(60, 64, 67, 0.3), 0px 1px 3px 1px rgba(60, 64, 67, 0.15);\n",
              "      fill: #174EA6;\n",
              "    }\n",
              "\n",
              "    .colab-df-buttons div {\n",
              "      margin-bottom: 4px;\n",
              "    }\n",
              "\n",
              "    [theme=dark] .colab-df-convert {\n",
              "      background-color: #3B4455;\n",
              "      fill: #D2E3FC;\n",
              "    }\n",
              "\n",
              "    [theme=dark] .colab-df-convert:hover {\n",
              "      background-color: #434B5C;\n",
              "      box-shadow: 0px 1px 3px 1px rgba(0, 0, 0, 0.15);\n",
              "      filter: drop-shadow(0px 1px 2px rgba(0, 0, 0, 0.3));\n",
              "      fill: #FFFFFF;\n",
              "    }\n",
              "  </style>\n",
              "\n",
              "    <script>\n",
              "      const buttonEl =\n",
              "        document.querySelector('#df-cc6705c2-fea4-4021-88a9-ba619ccfcbff button.colab-df-convert');\n",
              "      buttonEl.style.display =\n",
              "        google.colab.kernel.accessAllowed ? 'block' : 'none';\n",
              "\n",
              "      async function convertToInteractive(key) {\n",
              "        const element = document.querySelector('#df-cc6705c2-fea4-4021-88a9-ba619ccfcbff');\n",
              "        const dataTable =\n",
              "          await google.colab.kernel.invokeFunction('convertToInteractive',\n",
              "                                                    [key], {});\n",
              "        if (!dataTable) return;\n",
              "\n",
              "        const docLinkHtml = 'Like what you see? Visit the ' +\n",
              "          '<a target=\"_blank\" href=https://colab.research.google.com/notebooks/data_table.ipynb>data table notebook</a>'\n",
              "          + ' to learn more about interactive tables.';\n",
              "        element.innerHTML = '';\n",
              "        dataTable['output_type'] = 'display_data';\n",
              "        await google.colab.output.renderOutput(dataTable, element);\n",
              "        const docLink = document.createElement('div');\n",
              "        docLink.innerHTML = docLinkHtml;\n",
              "        element.appendChild(docLink);\n",
              "      }\n",
              "    </script>\n",
              "  </div>\n",
              "\n",
              "\n",
              "<div id=\"df-608fa442-f8f4-40b3-a5f4-c2e527b79bc3\">\n",
              "  <button class=\"colab-df-quickchart\" onclick=\"quickchart('df-608fa442-f8f4-40b3-a5f4-c2e527b79bc3')\"\n",
              "            title=\"Suggest charts\"\n",
              "            style=\"display:none;\">\n",
              "\n",
              "<svg xmlns=\"http://www.w3.org/2000/svg\" height=\"24px\"viewBox=\"0 0 24 24\"\n",
              "     width=\"24px\">\n",
              "    <g>\n",
              "        <path d=\"M19 3H5c-1.1 0-2 .9-2 2v14c0 1.1.9 2 2 2h14c1.1 0 2-.9 2-2V5c0-1.1-.9-2-2-2zM9 17H7v-7h2v7zm4 0h-2V7h2v10zm4 0h-2v-4h2v4z\"/>\n",
              "    </g>\n",
              "</svg>\n",
              "  </button>\n",
              "\n",
              "<style>\n",
              "  .colab-df-quickchart {\n",
              "      --bg-color: #E8F0FE;\n",
              "      --fill-color: #1967D2;\n",
              "      --hover-bg-color: #E2EBFA;\n",
              "      --hover-fill-color: #174EA6;\n",
              "      --disabled-fill-color: #AAA;\n",
              "      --disabled-bg-color: #DDD;\n",
              "  }\n",
              "\n",
              "  [theme=dark] .colab-df-quickchart {\n",
              "      --bg-color: #3B4455;\n",
              "      --fill-color: #D2E3FC;\n",
              "      --hover-bg-color: #434B5C;\n",
              "      --hover-fill-color: #FFFFFF;\n",
              "      --disabled-bg-color: #3B4455;\n",
              "      --disabled-fill-color: #666;\n",
              "  }\n",
              "\n",
              "  .colab-df-quickchart {\n",
              "    background-color: var(--bg-color);\n",
              "    border: none;\n",
              "    border-radius: 50%;\n",
              "    cursor: pointer;\n",
              "    display: none;\n",
              "    fill: var(--fill-color);\n",
              "    height: 32px;\n",
              "    padding: 0;\n",
              "    width: 32px;\n",
              "  }\n",
              "\n",
              "  .colab-df-quickchart:hover {\n",
              "    background-color: var(--hover-bg-color);\n",
              "    box-shadow: 0 1px 2px rgba(60, 64, 67, 0.3), 0 1px 3px 1px rgba(60, 64, 67, 0.15);\n",
              "    fill: var(--button-hover-fill-color);\n",
              "  }\n",
              "\n",
              "  .colab-df-quickchart-complete:disabled,\n",
              "  .colab-df-quickchart-complete:disabled:hover {\n",
              "    background-color: var(--disabled-bg-color);\n",
              "    fill: var(--disabled-fill-color);\n",
              "    box-shadow: none;\n",
              "  }\n",
              "\n",
              "  .colab-df-spinner {\n",
              "    border: 2px solid var(--fill-color);\n",
              "    border-color: transparent;\n",
              "    border-bottom-color: var(--fill-color);\n",
              "    animation:\n",
              "      spin 1s steps(1) infinite;\n",
              "  }\n",
              "\n",
              "  @keyframes spin {\n",
              "    0% {\n",
              "      border-color: transparent;\n",
              "      border-bottom-color: var(--fill-color);\n",
              "      border-left-color: var(--fill-color);\n",
              "    }\n",
              "    20% {\n",
              "      border-color: transparent;\n",
              "      border-left-color: var(--fill-color);\n",
              "      border-top-color: var(--fill-color);\n",
              "    }\n",
              "    30% {\n",
              "      border-color: transparent;\n",
              "      border-left-color: var(--fill-color);\n",
              "      border-top-color: var(--fill-color);\n",
              "      border-right-color: var(--fill-color);\n",
              "    }\n",
              "    40% {\n",
              "      border-color: transparent;\n",
              "      border-right-color: var(--fill-color);\n",
              "      border-top-color: var(--fill-color);\n",
              "    }\n",
              "    60% {\n",
              "      border-color: transparent;\n",
              "      border-right-color: var(--fill-color);\n",
              "    }\n",
              "    80% {\n",
              "      border-color: transparent;\n",
              "      border-right-color: var(--fill-color);\n",
              "      border-bottom-color: var(--fill-color);\n",
              "    }\n",
              "    90% {\n",
              "      border-color: transparent;\n",
              "      border-bottom-color: var(--fill-color);\n",
              "    }\n",
              "  }\n",
              "</style>\n",
              "\n",
              "  <script>\n",
              "    async function quickchart(key) {\n",
              "      const quickchartButtonEl =\n",
              "        document.querySelector('#' + key + ' button');\n",
              "      quickchartButtonEl.disabled = true;  // To prevent multiple clicks.\n",
              "      quickchartButtonEl.classList.add('colab-df-spinner');\n",
              "      try {\n",
              "        const charts = await google.colab.kernel.invokeFunction(\n",
              "            'suggestCharts', [key], {});\n",
              "      } catch (error) {\n",
              "        console.error('Error during call to suggestCharts:', error);\n",
              "      }\n",
              "      quickchartButtonEl.classList.remove('colab-df-spinner');\n",
              "      quickchartButtonEl.classList.add('colab-df-quickchart-complete');\n",
              "    }\n",
              "    (() => {\n",
              "      let quickchartButtonEl =\n",
              "        document.querySelector('#df-608fa442-f8f4-40b3-a5f4-c2e527b79bc3 button');\n",
              "      quickchartButtonEl.style.display =\n",
              "        google.colab.kernel.accessAllowed ? 'block' : 'none';\n",
              "    })();\n",
              "  </script>\n",
              "</div>\n",
              "\n",
              "  <div id=\"id_5321c958-3983-4c6c-92e0-b1253b07f919\">\n",
              "    <style>\n",
              "      .colab-df-generate {\n",
              "        background-color: #E8F0FE;\n",
              "        border: none;\n",
              "        border-radius: 50%;\n",
              "        cursor: pointer;\n",
              "        display: none;\n",
              "        fill: #1967D2;\n",
              "        height: 32px;\n",
              "        padding: 0 0 0 0;\n",
              "        width: 32px;\n",
              "      }\n",
              "\n",
              "      .colab-df-generate:hover {\n",
              "        background-color: #E2EBFA;\n",
              "        box-shadow: 0px 1px 2px rgba(60, 64, 67, 0.3), 0px 1px 3px 1px rgba(60, 64, 67, 0.15);\n",
              "        fill: #174EA6;\n",
              "      }\n",
              "\n",
              "      [theme=dark] .colab-df-generate {\n",
              "        background-color: #3B4455;\n",
              "        fill: #D2E3FC;\n",
              "      }\n",
              "\n",
              "      [theme=dark] .colab-df-generate:hover {\n",
              "        background-color: #434B5C;\n",
              "        box-shadow: 0px 1px 3px 1px rgba(0, 0, 0, 0.15);\n",
              "        filter: drop-shadow(0px 1px 2px rgba(0, 0, 0, 0.3));\n",
              "        fill: #FFFFFF;\n",
              "      }\n",
              "    </style>\n",
              "    <button class=\"colab-df-generate\" onclick=\"generateWithVariable('df_importances')\"\n",
              "            title=\"Generate code using this dataframe.\"\n",
              "            style=\"display:none;\">\n",
              "\n",
              "  <svg xmlns=\"http://www.w3.org/2000/svg\" height=\"24px\"viewBox=\"0 0 24 24\"\n",
              "       width=\"24px\">\n",
              "    <path d=\"M7,19H8.4L18.45,9,17,7.55,7,17.6ZM5,21V16.75L18.45,3.32a2,2,0,0,1,2.83,0l1.4,1.43a1.91,1.91,0,0,1,.58,1.4,1.91,1.91,0,0,1-.58,1.4L9.25,21ZM18.45,9,17,7.55Zm-12,3A5.31,5.31,0,0,0,4.9,8.1,5.31,5.31,0,0,0,1,6.5,5.31,5.31,0,0,0,4.9,4.9,5.31,5.31,0,0,0,6.5,1,5.31,5.31,0,0,0,8.1,4.9,5.31,5.31,0,0,0,12,6.5,5.46,5.46,0,0,0,6.5,12Z\"/>\n",
              "  </svg>\n",
              "    </button>\n",
              "    <script>\n",
              "      (() => {\n",
              "      const buttonEl =\n",
              "        document.querySelector('#id_5321c958-3983-4c6c-92e0-b1253b07f919 button.colab-df-generate');\n",
              "      buttonEl.style.display =\n",
              "        google.colab.kernel.accessAllowed ? 'block' : 'none';\n",
              "\n",
              "      buttonEl.onclick = () => {\n",
              "        google.colab.notebook.generateWithVariable('df_importances');\n",
              "      }\n",
              "      })();\n",
              "    </script>\n",
              "  </div>\n",
              "\n",
              "    </div>\n",
              "  </div>\n"
            ],
            "text/plain": [
              "                     Feature  Importance\n",
              "4                   Item_MRP  897.746587\n",
              "8                Outlet_Type  431.129838\n",
              "2            Item_Visibility  171.871550\n",
              "0                Item_Weight  160.704949\n",
              "5  Outlet_Establishment_Year  157.820695\n",
              "3                  Item_Type   74.992027\n",
              "7       Outlet_Location_Type   43.069042\n",
              "6                Outlet_Size   38.988799\n",
              "1           Item_Fat_Content   24.237248"
            ]
          },
          "execution_count": 60,
          "metadata": {},
          "output_type": "execute_result"
        }
      ],
      "source": [
        "# features importances depending on features permutation importances\n",
        "pipeline = Pipeline([(\"preprocessor\",cols_transformer),(\"stacking regressor\",stacking_regressor)])\n",
        "pipeline.fit(X_train, y_train)\n",
        "result = permutation_importance(pipeline, X_train, y_train, scoring=make_scorer(mean_absolute_error), n_repeats=15,\n",
        "                                random_state=56)\n",
        "data = list(zip(X_train.columns, result[\"importances_mean\"]*-1))\n",
        "df_importances = pd.DataFrame(data, columns=['Feature', 'Importance']).sort_values(by='Importance', ascending=False)\n",
        "df_importances"
      ]
    },
    {
      "cell_type": "markdown",
      "metadata": {
        "id": "QCPSlitUOFLR"
      },
      "source": [
        "The item price and the store type are crucial for the model to predict sales."
      ]
    }
  ],
  "metadata": {
    "colab": {
      "authorship_tag": "ABX9TyP4Sm+3kX4s3T77lfrUlaXU",
      "include_colab_link": true,
      "provenance": []
    },
    "kernelspec": {
      "display_name": "Python 3",
      "name": "python3"
    },
    "language_info": {
      "codemirror_mode": {
        "name": "ipython",
        "version": 3
      },
      "file_extension": ".py",
      "mimetype": "text/x-python",
      "name": "python",
      "nbconvert_exporter": "python",
      "pygments_lexer": "ipython3",
      "version": "3.11.4"
    }
  },
  "nbformat": 4,
  "nbformat_minor": 0
}
